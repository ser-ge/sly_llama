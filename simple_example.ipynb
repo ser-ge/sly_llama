{
 "cells": [
  {
   "cell_type": "code",
   "execution_count": 1,
   "id": "0646f8e5",
   "metadata": {
    "lines_to_next_cell": 2
   },
   "outputs": [],
   "source": [
    "from typing import List, Optional\n",
    "\n",
    "from sly_llama import llm_call\n",
    "from langchain.llms import OpenAI\n",
    "\n",
    "from pydantic import BaseModel\n",
    "\n",
    "llm = OpenAI()"
   ]
  },
  {
   "cell_type": "markdown",
   "id": "d0153a3d",
   "metadata": {
    "cell_marker": "\"\"\"",
    "lines_to_next_cell": 0
   },
   "source": [
    "#### Lets define what the add function does and wrap it in an llm call"
   ]
  },
  {
   "cell_type": "code",
   "execution_count": 2,
   "id": "7f9dca48",
   "metadata": {},
   "outputs": [],
   "source": [
    "@llm_call(llm)\n",
    "def add(x: str, y: str) -> str:\n",
    "    \"\"\"\n",
    "    calculate {x} + {y}\n",
    "    only return the number and nothing else\n",
    "    \"\"\""
   ]
  },
  {
   "cell_type": "code",
   "execution_count": 3,
   "id": "363d722b",
   "metadata": {},
   "outputs": [
    {
     "data": {
      "text/plain": [
       "'\\n3'"
      ]
     },
     "execution_count": 3,
     "metadata": {},
     "output_type": "execute_result"
    }
   ],
   "source": [
    "add(1, 2)"
   ]
  },
  {
   "cell_type": "code",
   "execution_count": 4,
   "id": "583b4b81",
   "metadata": {},
   "outputs": [
    {
     "data": {
      "text/plain": [
       "'\\n4\\n2'"
      ]
     },
     "execution_count": 4,
     "metadata": {},
     "output_type": "execute_result"
    }
   ],
   "source": [
    "add(1, 3) + add(1,1)"
   ]
  },
  {
   "cell_type": "markdown",
   "id": "f4f29955",
   "metadata": {},
   "source": [
    "#### Problem: strings don't add, lets try again but with ints\n"
   ]
  },
  {
   "cell_type": "code",
   "execution_count": 5,
   "id": "bc974eca",
   "metadata": {
    "lines_to_next_cell": 2
   },
   "outputs": [
    {
     "data": {
      "text/plain": [
       "6"
      ]
     },
     "execution_count": 5,
     "metadata": {},
     "output_type": "execute_result"
    }
   ],
   "source": [
    "@llm_call(llm)\n",
    "def add(x: str, y: str) -> int:\n",
    "    \"\"\"\n",
    "    calculate {x} + {y}\n",
    "    only return the number and nothing else\n",
    "    \"\"\"\n",
    "\n",
    "add(1, 3) + add(1,1)"
   ]
  },
  {
   "cell_type": "markdown",
   "id": "cf1af164",
   "metadata": {
    "cell_marker": "\"\"\"",
    "lines_to_next_cell": 1
   },
   "source": [
    "Lets make a recipe"
   ]
  },
  {
   "cell_type": "code",
   "execution_count": 6,
   "id": "2e09b067",
   "metadata": {
    "lines_to_next_cell": 0
   },
   "outputs": [],
   "source": [
    "\n",
    "@llm_call(llm)\n",
    "def get_recipe(dish: str, units: str) -> str:\n",
    "    \"\"\"\n",
    "    Write a resipe for this {dish}\n",
    "    Be sure to include all the ingridients in {units} units.\n",
    "\n",
    "\n",
    "    ingridients: < neccesary ingridients>\n",
    "    intructions: < the instructions for making the dish>\n",
    "    vegan : <this value must be one of [True, False] indicating weather the recipe is vegan>\n",
    "\n",
    "    \"\"\""
   ]
  },
  {
   "cell_type": "code",
   "execution_count": 7,
   "id": "7cef7c5c",
   "metadata": {},
   "outputs": [
    {
     "data": {
      "text/plain": [
       "'\\nIngridients:\\n\\n- 2 cups of all-purpose flour\\n- 2 teaspoons baking powder\\n- 1/4 teaspoon baking soda\\n- 1/2 teaspoon salt\\n- 1/4 cup vegan butter\\n- 1/2 cup almond milk\\n- 2 tablespoons sugar\\n- 2 tablespoons vegan yogurt\\n\\nInstructions:\\n\\n1. Preheat oven to 350°F (175°C).\\n\\n2. In a large bowl, whisk together the all-purpose flour, baking powder, baking soda, and salt.\\n\\n3. Add the vegan butter and mix with a pastry blender or a fork until it resembles a course meal.\\n\\n4. Add the almond milk, sugar, and vegan yogurt and mix until a soft dough forms.\\n\\n5. Turn the dough out onto a lightly floured surface and knead until it forms a ball.\\n\\n6. Roll the dough out to 1/2 inch thickness and cut into rounds using a biscuit cutter or glass.\\n\\n7. Place on a lightly greased baking sheet and bake for 12-15 minutes or until lightly browned.\\n\\nVegan: True'"
      ]
     },
     "execution_count": 7,
     "metadata": {},
     "output_type": "execute_result"
    }
   ],
   "source": [
    "print(get_recipe(\"jank\", \"metric\"))"
   ]
  },
  {
   "cell_type": "markdown",
   "id": "50114d5f",
   "metadata": {
    "cell_marker": "\"\"\"",
    "lines_to_next_cell": 0
   },
   "source": [
    "#### That's great but what if we want to parse the output to a pydantic class\n",
    "\n",
    "#### Let define the output class and how we want to parse the llm output"
   ]
  },
  {
   "cell_type": "code",
   "execution_count": 28,
   "id": "1eb1acec",
   "metadata": {},
   "outputs": [],
   "source": [
    "from pydantic import BaseModel\n",
    "\n",
    "class Recipe(BaseModel):\n",
    "    ingridients: str | List[str]\n",
    "    instructions : str | List[str]\n",
    "    vegan: bool\n",
    "\n",
    "    @classmethod\n",
    "    def from_llm_output(cls, llm_output: str):\n",
    "        recipe = {}\n",
    "        parts = llm_output.casefold().partition('instructions')\n",
    "        recipe['ingridients']  = parts[0].replace('ingridients', '').replace('[],\"', '').strip().split('\\n')\n",
    "        recipe['instructions'] = parts[2].partition('vegan')[0].replace('[],\"', '').strip().split('\\n')\n",
    "        recipe['vegan']  = bool(parts[2].partition('vegan')[1].replace('[],\"\\n', '').strip())\n",
    "        return cls.parse_obj(recipe)\n"
   ]
  },
  {
   "cell_type": "markdown",
   "id": "56219537",
   "metadata": {
    "cell_marker": "\"\"\"",
    "lines_to_end_of_cell_marker": 0,
    "lines_to_next_cell": 0
   },
   "source": [
    "\n",
    "#### And ammend the return type"
   ]
  },
  {
   "cell_type": "code",
   "execution_count": 29,
   "id": "4de82e4c",
   "metadata": {
    "lines_to_next_cell": 1
   },
   "outputs": [],
   "source": [
    "@llm_call(llm)\n",
    "def get_recipe(dish: str, units: str) -> Recipe:\n",
    "     \"\"\"\n",
    "     Write a resipe for this {dish}\n",
    "     Be sure to include all the ingridients in {units} units.\n",
    "\n",
    "     You should provide your response in JSON Format\n",
    "\n",
    "     ingridients: < neccesary ingridients>\n",
    "     intructions: < the instructions for making the dish>\n",
    "     vegan : <this value must be one of [True, False] indicating weather the recipe is vegan>\n",
    "     \"\"\""
   ]
  },
  {
   "cell_type": "code",
   "execution_count": 31,
   "id": "51889255",
   "metadata": {},
   "outputs": [
    {
     "data": {
      "text/plain": [
       "['\": [',\n",
       " '        \"mix the flour, salt, and oil in a bowl.\",',\n",
       " '        \"slowly add the warm water to the bowl and knead the dough for 10 minutes.\",',\n",
       " '        \"cover the dough and let it rest for 20 minutes.\",',\n",
       " '        \"divide the dough into 4 parts, shape into balls and roll out each ball into a thin round shape.\",',\n",
       " '        \"heat a large non-stick pan over medium heat.\",',\n",
       " '        \"put one round of dough on the pan and cook for 1-2 minutes.\",',\n",
       " '        \"flip over and cook the other side for 1-2 minutes.\",',\n",
       " '        \"remove from the pan and repeat with the remaining dough.\"',\n",
       " '    ],',\n",
       " '    \"']"
      ]
     },
     "execution_count": 31,
     "metadata": {},
     "output_type": "execute_result"
    }
   ],
   "source": [
    "recipe = get_recipe('kchapuri', 'metric')\n",
    "recipe.instructions"
   ]
  },
  {
   "cell_type": "markdown",
   "id": "47aeab42",
   "metadata": {
    "cell_marker": "\"\"\""
   },
   "source": [
    "#### Hmm that was a lot of work and looks like we did not do a good job, lets ask it to give us some juicy JSON"
   ]
  },
  {
   "cell_type": "code",
   "execution_count": 10,
   "id": "dc9ef415",
   "metadata": {},
   "outputs": [],
   "source": [
    "from sly_llama import JsonBaseModel\n",
    "\n",
    "class Recipe(JsonBaseModel):\n",
    "    ingridients: str | List[str]\n",
    "    instructions : str | List[str]\n",
    "    vegan: bool"
   ]
  },
  {
   "cell_type": "markdown",
   "id": "dee57ae8",
   "metadata": {
    "cell_marker": "\"\"\"",
    "lines_to_next_cell": 0
   },
   "source": [
    "#### Llamas are not so good at json so may be let it learn from its mistakes"
   ]
  },
  {
   "cell_type": "code",
   "execution_count": 11,
   "id": "9c0f3399",
   "metadata": {},
   "outputs": [],
   "source": [
    "@llm_call(llm)\n",
    "def get_recipe(dish: str, units: str, error_message: str) -> Recipe:\n",
    "    \"\"\"\n",
    "    Write a resipe for this {dish}\n",
    "    Be sure to include all the ingridients in {units} units.\n",
    "\n",
    "    You should provide your response in JSON Format\n",
    "\n",
    "    ingridients: < neccesary ingridients>\n",
    "    intructions: < the instructions for making the dish>\n",
    "    vegan : <this value must be one of [True, False] indicating weather the recipe is vegan>\n",
    "\n",
    "    {error_message}\n",
    "    \"\"\""
   ]
  },
  {
   "cell_type": "code",
   "execution_count": 9,
   "id": "26952847",
   "metadata": {
    "lines_to_next_cell": 2
   },
   "outputs": [
    {
     "data": {
      "text/plain": [
       "Recipe(ingridients=['300g Flour', '1/4 teaspoon of salt', '150ml warm water', '2 tablespoons of vegetable oil', '1/2 teaspoon of sugar'], instructions=['In a bowl, mix together the flour, salt, sugar and oil.', 'Slowly add the warm water and knead for 10 minutes or until the dough is soft and elastic.', 'Roll the dough into a ball and let it rest for 15 minutes in an oiled bowl.', 'Divide the dough into two parts and roll each out to a round shape.', 'Brush each chapati with oil and cook in a heavy skillet over medium heat for about 1 minute on each side.', 'Serve warm.'], vegan=True)"
      ]
     },
     "execution_count": 9,
     "metadata": {},
     "output_type": "execute_result"
    }
   ],
   "source": [
    "from sly_llama import LlmException\n",
    "\n",
    "recipe = None\n",
    "error_message = ''\n",
    "\n",
    "while not recipe:\n",
    "    try:\n",
    "        recipe = get_recipe('kchapuri', 'metric', error_message)\n",
    "        \n",
    "    except LlmException as e:\n",
    "        error_message = e.message\n",
    "        print(error_message)\n",
    "recipe"
   ]
  },
  {
   "cell_type": "code",
   "execution_count": null,
   "id": "7b9658c0",
   "metadata": {
    "lines_to_next_cell": 0
   },
   "outputs": [],
   "source": [
    "\n",
    "\n",
    "\n",
    "\n"
   ]
  },
  {
   "cell_type": "code",
   "execution_count": null,
   "id": "f70d6b86",
   "metadata": {
    "lines_to_next_cell": 2
   },
   "outputs": [],
   "source": []
  }
 ],
 "metadata": {
  "jupytext": {
   "cell_metadata_filter": "-all",
   "formats": "py,ipynb"
  },
  "kernelspec": {
   "display_name": "Python 3 (ipykernel)",
   "language": "python",
   "name": "python3"
  },
  "language_info": {
   "codemirror_mode": {
    "name": "ipython",
    "version": 3
   },
   "file_extension": ".py",
   "mimetype": "text/x-python",
   "name": "python",
   "nbconvert_exporter": "python",
   "pygments_lexer": "ipython3",
   "version": "3.11.1"
  }
 },
 "nbformat": 4,
 "nbformat_minor": 5
}
