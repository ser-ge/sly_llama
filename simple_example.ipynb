{
 "cells": [
  {
   "cell_type": "code",
   "execution_count": 1,
   "id": "0646f8e5",
   "metadata": {
    "lines_to_next_cell": 2
   },
   "outputs": [],
   "source": [
    "from typing import List, Optional\n",
    "\n",
    "from sly_llama import llm_call\n",
    "from langchain.llms import OpenAI\n",
    "\n",
    "from pydantic import BaseModel\n",
    "\n",
    "llm = OpenAI()"
   ]
  },
  {
   "cell_type": "markdown",
   "id": "d0153a3d",
   "metadata": {
    "cell_marker": "\"\"\"",
    "lines_to_next_cell": 0
   },
   "source": [
    "#### Lets define what the add function does and wrap it in an llm call"
   ]
  },
  {
   "cell_type": "code",
   "execution_count": 2,
   "id": "7f9dca48",
   "metadata": {},
   "outputs": [],
   "source": [
    "@llm_call(llm)\n",
    "def add(x: str, y: str) -> str:\n",
    "    \"\"\"\n",
    "    calculate {x} + {y}\n",
    "    only return the number and nothing else\n",
    "    \"\"\""
   ]
  },
  {
   "cell_type": "code",
   "execution_count": 3,
   "id": "363d722b",
   "metadata": {},
   "outputs": [
    {
     "data": {
      "text/plain": [
       "'\\n3'"
      ]
     },
     "execution_count": 3,
     "metadata": {},
     "output_type": "execute_result"
    }
   ],
   "source": [
    "add(1, 2)"
   ]
  },
  {
   "cell_type": "code",
   "execution_count": 4,
   "id": "583b4b81",
   "metadata": {},
   "outputs": [
    {
     "data": {
      "text/plain": [
       "'\\n4\\n2'"
      ]
     },
     "execution_count": 4,
     "metadata": {},
     "output_type": "execute_result"
    }
   ],
   "source": [
    "add(1, 3) + add(1,1)"
   ]
  },
  {
   "cell_type": "markdown",
   "id": "f4f29955",
   "metadata": {},
   "source": [
    "#### Problem: strings don't add, lets try again but with ints\n"
   ]
  },
  {
   "cell_type": "code",
   "execution_count": 5,
   "id": "bc974eca",
   "metadata": {
    "lines_to_next_cell": 2
   },
   "outputs": [
    {
     "data": {
      "text/plain": [
       "6"
      ]
     },
     "execution_count": 5,
     "metadata": {},
     "output_type": "execute_result"
    }
   ],
   "source": [
    "@llm_call(llm)\n",
    "def add(x: str, y: str) -> int:\n",
    "    \"\"\"\n",
    "    calculate {x} + {y}\n",
    "    only return the number and nothing else\n",
    "    \"\"\"\n",
    "\n",
    "add(1, 3) + add(1,1)"
   ]
  },
  {
   "cell_type": "markdown",
   "id": "cf1af164",
   "metadata": {
    "cell_marker": "\"\"\"",
    "lines_to_next_cell": 1
   },
   "source": [
    "Lets make a recipe"
   ]
  },
  {
   "cell_type": "code",
   "execution_count": 13,
   "id": "2e09b067",
   "metadata": {
    "lines_to_next_cell": 0
   },
   "outputs": [],
   "source": [
    "\n",
    "@llm_call(llm)\n",
    "def get_recipe(dish: str, units: str) -> str:\n",
    "    \"\"\"\n",
    "    Write a resipe for this {dish}\n",
    "    Be sure to include all the ingridients in {units} units.\n",
    "\n",
    "\n",
    "    ingridients: < neccesary ingridients>\n",
    "    intructions: < the instructions for making the dish>\n",
    "    vegan : <this value must be one of [True, False] indicating weather the recipe is vegan>\n",
    "\n",
    "    \"\"\""
   ]
  },
  {
   "cell_type": "code",
   "execution_count": 14,
   "id": "7cef7c5c",
   "metadata": {},
   "outputs": [
    {
     "name": "stdout",
     "output_type": "stream",
     "text": [
      "\n",
      "Ingridients: \n",
      "- 2 cups of uncooked white rice\n",
      "- 2 tablespoons of vegetable oil\n",
      "- 1 onion, chopped\n",
      "- 2 cloves of garlic, minced\n",
      "- 2 teaspoons of ground cumin\n",
      "- 2 teaspoons of chili powder\n",
      "- 2 tablespoons of tomato paste\n",
      "- 2 cups of vegetable broth\n",
      "- 1 bell pepper, chopped\n",
      "- 1 can (14.5 ounces) of diced tomatoes\n",
      "- 1 can (15 ounces) of black beans, drained\n",
      "- 1 teaspoon of salt\n",
      "- 1/2 teaspoon of black pepper\n",
      "\n",
      "Instructions:\n",
      "1. Heat oil in a large pot over medium heat.\n",
      "2. Add onion and garlic and cook for 1 to 2 minutes, stirring occasionally.\n",
      "3. Add cumin, chili powder, and tomato paste and cook for 1 minute, stirring constantly.\n",
      "4. Add the rice and stir to coat.\n",
      "5. Add the vegetable broth, bell pepper, tomatoes, black beans, salt, and pepper and stir to combine.\n",
      "6. Increase the heat to high and bring to a boil.\n",
      "7. Reduce the heat to low and cover. Simmer for 20 minutes, stirring occasionally.\n",
      "8. Remove from heat and let stand covered for 5 minutes.\n",
      "\n"
     ]
    }
   ],
   "source": [
    "print(get_recipe(\"jank\", \"metric\"))"
   ]
  },
  {
   "cell_type": "markdown",
   "id": "50114d5f",
   "metadata": {
    "cell_marker": "\"\"\"",
    "lines_to_next_cell": 0
   },
   "source": [
    "#### That's great but what if we want to parse the output to a pydantic class\n",
    "\n",
    "#### Let define the output class and how we want to parse the llm output"
   ]
  },
  {
   "cell_type": "code",
   "execution_count": 15,
   "id": "1eb1acec",
   "metadata": {},
   "outputs": [],
   "source": [
    "from pydantic import BaseModel\n",
    "\n",
    "class Recipe(BaseModel):\n",
    "    ingridients: str | List[str]\n",
    "    instructions : str | List[str]\n",
    "    vegan: bool\n",
    "\n",
    "    @classmethod\n",
    "    def from_llm_output(cls, llm_output: str):\n",
    "        recipe = {}\n",
    "        parts = llm_output.casefold().partition('instructions')\n",
    "        recipe['ingridients']  = parts[0].replace('ingridients', '').replace('[],\"', '').strip().split('\\n')\n",
    "        recipe['instructions'] = parts[2].partition('vegan')[0].replace('[],\"', '').strip().split('\\n')\n",
    "        recipe['vegan']  = bool(parts[2].partition('vegan')[1].replace('[],\"\\n', '').strip())\n",
    "        return cls.parse_obj(recipe)\n"
   ]
  },
  {
   "cell_type": "markdown",
   "id": "56219537",
   "metadata": {
    "cell_marker": "\"\"\"",
    "lines_to_end_of_cell_marker": 0,
    "lines_to_next_cell": 0
   },
   "source": [
    "\n",
    "#### And ammend the return type"
   ]
  },
  {
   "cell_type": "code",
   "execution_count": 16,
   "id": "4de82e4c",
   "metadata": {
    "lines_to_next_cell": 1
   },
   "outputs": [],
   "source": [
    "@llm_call(llm)\n",
    "def get_recipe(dish: str, units: str) -> Recipe:\n",
    "     \"\"\"\n",
    "     Write a resipe for this {dish}\n",
    "     Be sure to include all the ingridients in {units} units.\n",
    "\n",
    "     ingridients: < neccesary ingridients>\n",
    "     intructions: < the instructions for making the dish>\n",
    "     vegan : <this value must be one of [True, False] indicating weather the recipe is vegan>\n",
    "     \"\"\""
   ]
  },
  {
   "cell_type": "code",
   "execution_count": 17,
   "id": "51889255",
   "metadata": {},
   "outputs": [
    {
     "data": {
      "text/plain": [
       "[':',\n",
       " '1. in a large bowl, mix together the chapathi flour, oil, and salt.',\n",
       " '2. slowly add the water and mix together until a dough forms.',\n",
       " '3. knead the dough for 5 minutes.',\n",
       " '4. cover the dough with a damp cloth and let it rest for 30 minutes.',\n",
       " '5. after the dough has rested, divide it into 8 equal parts.',\n",
       " '6. using a rolling pin, roll each of the dough pieces into circles.',\n",
       " '7. heat 2 tablespoons of oil in a large skillet over medium heat.',\n",
       " '8. place one of the circles on the hot skillet and cook for 1 minute on each side.',\n",
       " '9. place the chapathi on a plate and serve.']"
      ]
     },
     "execution_count": 17,
     "metadata": {},
     "output_type": "execute_result"
    }
   ],
   "source": [
    "recipe = get_recipe('kchapuri', 'metric')\n",
    "recipe.instructions"
   ]
  },
  {
   "cell_type": "markdown",
   "id": "47aeab42",
   "metadata": {
    "cell_marker": "\"\"\""
   },
   "source": [
    "#### Hmm that was a lot of work and looks like we did not do a good job, lets ask it to give us some juicy JSON"
   ]
  },
  {
   "cell_type": "code",
   "execution_count": 18,
   "id": "dc9ef415",
   "metadata": {},
   "outputs": [],
   "source": [
    "from sly_llama import JsonBaseModel\n",
    "\n",
    "class Recipe(JsonBaseModel):\n",
    "    ingridients: str | List[str]\n",
    "    instructions : str | List[str]\n",
    "    vegan: bool"
   ]
  },
  {
   "cell_type": "markdown",
   "id": "dee57ae8",
   "metadata": {
    "cell_marker": "\"\"\"",
    "lines_to_next_cell": 0
   },
   "source": [
    "#### Llamas are not so good at json so may be let it learn from its mistakes"
   ]
  },
  {
   "cell_type": "code",
   "execution_count": 19,
   "id": "9c0f3399",
   "metadata": {},
   "outputs": [],
   "source": [
    "@llm_call(llm)\n",
    "def get_recipe(dish: str, units: str, error_message: str) -> Recipe:\n",
    "    \"\"\"\n",
    "    Write a resipe for this {dish}\n",
    "    Be sure to include all the ingridients in {units} units.\n",
    "\n",
    "    You should provide your response in JSON Format\n",
    "\n",
    "    ingridients: < neccesary ingridients>\n",
    "    intructions: < the instructions for making the dish>\n",
    "    vegan : <this value must be one of [True, False] indicating weather the recipe is vegan>\n",
    "\n",
    "    {error_message}\n",
    "    \"\"\""
   ]
  },
  {
   "cell_type": "code",
   "execution_count": 20,
   "id": "26952847",
   "metadata": {
    "lines_to_next_cell": 2
   },
   "outputs": [
    {
     "name": "stdout",
     "output_type": "stream",
     "text": [
      "b'' \n",
      " The output was not valid JSON, be sure to only provide JSON\n"
     ]
    },
    {
     "data": {
      "text/plain": [
       "Recipe(ingridients=['1 cup of all-purpose flour', '1/2 teaspoon of salt', '1/2 teaspoon of baking powder', '3 tablespoons of vegetable oil', '3/4 cup of water'], instructions=['In a large bowl, mix together the flour, salt, and baking powder.', 'Add the vegetable oil and water and mix until everything is combined and a ball of dough forms.', 'On a lightly floured surface, knead the dough for 3 minutes.', 'Cover the dough with a damp cloth and let it rest for at least 15 minutes.', 'Roll out the dough to about 1/8 inch thickness.', 'Cut the dough into 8 equal pieces.', 'Roll each piece into a 5 inch circle.', 'Heat a skillet over medium heat and lightly grease with vegetable oil.', 'Once the skillet is hot, place one of the circles in the skillet and cook for about 1 minute.', 'Flip the chapati and cook for an additional minute.', 'Repeat with the remaining circles.'], vegan=True)"
      ]
     },
     "execution_count": 20,
     "metadata": {},
     "output_type": "execute_result"
    }
   ],
   "source": [
    "from sly_llama import LlmException\n",
    "\n",
    "recipe = None\n",
    "error_message = ''\n",
    "\n",
    "while not recipe:\n",
    "    try:\n",
    "        recipe = get_recipe('kchapuri', 'metric', error_message)\n",
    "        \n",
    "    except LlmException as e:\n",
    "        error_message = e.message\n",
    "        print(error_message)\n",
    "recipe"
   ]
  },
  {
   "cell_type": "code",
   "execution_count": null,
   "id": "7b9658c0",
   "metadata": {},
   "outputs": [],
   "source": [
    "\n",
    "\n",
    "\n",
    "\n"
   ]
  },
  {
   "cell_type": "code",
   "execution_count": null,
   "id": "1f711570",
   "metadata": {},
   "outputs": [],
   "source": []
  }
 ],
 "metadata": {
  "jupytext": {
   "cell_metadata_filter": "-all",
   "formats": "py,ipynb"
  },
  "kernelspec": {
   "display_name": "Python 3 (ipykernel)",
   "language": "python",
   "name": "python3"
  },
  "language_info": {
   "codemirror_mode": {
    "name": "ipython",
    "version": 3
   },
   "file_extension": ".py",
   "mimetype": "text/x-python",
   "name": "python",
   "nbconvert_exporter": "python",
   "pygments_lexer": "ipython3",
   "version": "3.11.1"
  }
 },
 "nbformat": 4,
 "nbformat_minor": 5
}
